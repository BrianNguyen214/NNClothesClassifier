{
 "cells": [
  {
   "cell_type": "code",
   "execution_count": 1,
   "metadata": {},
   "outputs": [],
   "source": [
    "from sklearn.datasets import load_digits\n",
    "from sklearn.model_selection import train_test_split\n",
    "from sklearn.utils import shuffle\n",
    "from scipy.special import expit\n",
    "from decimal import *"
   ]
  },
  {
   "cell_type": "code",
   "execution_count": 2,
   "metadata": {},
   "outputs": [],
   "source": [
    "getcontext().prec = 10\n",
    "data = load_digits()"
   ]
  },
  {
   "cell_type": "code",
   "execution_count": 3,
   "metadata": {},
   "outputs": [
    {
     "data": {
      "text/plain": [
       "{'divide': 'warn', 'over': 'raise', 'under': 'ignore', 'invalid': 'warn'}"
      ]
     },
     "execution_count": 3,
     "metadata": {},
     "output_type": "execute_result"
    }
   ],
   "source": [
    "import numpy as np\n",
    "import random\n",
    "import numpy.random\n",
    "import math\n",
    "np.seterr(over='raise')\n",
    "np.seterr(divide='raise', invalid='raise')"
   ]
  },
  {
   "cell_type": "code",
   "execution_count": 4,
   "metadata": {},
   "outputs": [
    {
     "data": {
      "text/plain": [
       "dict_keys(['data', 'target', 'target_names', 'images', 'DESCR'])"
      ]
     },
     "execution_count": 4,
     "metadata": {},
     "output_type": "execute_result"
    }
   ],
   "source": [
    "data.keys()"
   ]
  },
  {
   "cell_type": "code",
   "execution_count": 5,
   "metadata": {},
   "outputs": [],
   "source": [
    "train = np.array(list(zip(data[\"data\"],data[\"target\"])))"
   ]
  },
  {
   "cell_type": "code",
   "execution_count": 6,
   "metadata": {},
   "outputs": [],
   "source": [
    "from matplotlib import pyplot as plt\n",
    "%matplotlib inline\n"
   ]
  },
  {
   "cell_type": "code",
   "execution_count": 7,
   "metadata": {},
   "outputs": [
    {
     "name": "stdout",
     "output_type": "stream",
     "text": [
      "3\n"
     ]
    },
    {
     "data": {
      "image/png": "[encoded data removed]",
      "text/plain": [
       "<Figure size 432x288 with 1 Axes>"
      ]
     },
     "metadata": {
      "needs_background": "light"
     },
     "output_type": "display_data"
    }
   ],
   "source": [
    "rand = np.random.randint(0,high = len(train) -1)\n",
    "\n",
    "img, real = train[rand]\n",
    "func = lambda x: np.array(np.array_split(x,8))\n",
    "plt.imshow(func(img))\n",
    "print(real)"
   ]
  },
  {
   "cell_type": "code",
   "execution_count": 8,
   "metadata": {},
   "outputs": [],
   "source": [
    "import pandas as pd\n",
    "df = pd.DataFrame(train)\n",
    "df = shuffle(df)\n",
    "imgs = df[0]\n",
    "labels = df[1]\n",
    "#print(df[1])"
   ]
  },
  {
   "cell_type": "code",
   "execution_count": 9,
   "metadata": {},
   "outputs": [],
   "source": [
    "trainImgs = []\n",
    "trainLabels = []\n",
    "testImgs = []\n",
    "testLabels = []\n",
    "\n",
    "for i in range(len(df)):\n",
    "    if i < len(df)*0.80:\n",
    "        trainImgs.append(imgs[i])\n",
    "        trainLabels.append(labels[i])\n",
    "    if i >= len(df)*0.80:\n",
    "        testImgs.append(imgs[i])\n",
    "        testLabels.append(labels[i])\n",
    "        \n",
    "#print(trainImgs[0])\n",
    "#print(np.shape(trainImgs[0]))\n",
    "       \n",
    "#print(len(imgs))\n",
    "#print(len(trainImgs))\n",
    "#print(len(testImgs))\n",
    "#print(len(trainImgs[0]))\n",
    "\n",
    "reshapedTrainImgs = []\n",
    "reshapedTestImgs = []\n",
    "\n",
    "for i in range(len(trainImgs)):\n",
    "    reshapedTrainImgs.append(func(trainImgs[i]))\n",
    "for i in range(len(testImgs)):\n",
    "    reshapedTestImgs.append(func(testImgs[i]))"
   ]
  },
  {
   "cell_type": "code",
   "execution_count": 10,
   "metadata": {},
   "outputs": [
    {
     "name": "stdout",
     "output_type": "stream",
     "text": [
      "2\n"
     ]
    },
    {
     "data": {
      "image/png": "[encoded data removed]",
      "text/plain": [
       "<Figure size 432x288 with 1 Axes>"
      ]
     },
     "metadata": {
      "needs_background": "light"
     },
     "output_type": "display_data"
    }
   ],
   "source": [
    "aTrainImg = 22\n",
    "plt.imshow(reshapedTrainImgs[aTrainImg])\n",
    "print(trainLabels[aTrainImg])"
   ]
  },
  {
   "cell_type": "code",
   "execution_count": 11,
   "metadata": {},
   "outputs": [
    {
     "name": "stdout",
     "output_type": "stream",
     "text": [
      "9\n"
     ]
    },
    {
     "data": {
      "image/png": "[encoded data removed]",
      "text/plain": [
       "<Figure size 432x288 with 1 Axes>"
      ]
     },
     "metadata": {
      "needs_background": "light"
     },
     "output_type": "display_data"
    }
   ],
   "source": [
    "aTestImg = 8\n",
    "plt.imshow(reshapedTestImgs[aTestImg])\n",
    "print(testLabels[aTestImg])"
   ]
  },
  {
   "cell_type": "code",
   "execution_count": 12,
   "metadata": {},
   "outputs": [],
   "source": [
    "class NeuralNet():\n",
    "    def __init__(self, inputArr, outputArr, initialize = False):\n",
    "        self.inputLayerSize = 64\n",
    "        self.outputLayerSize = 10\n",
    "        self.hiddenLayer1Size = 100\n",
    "        self.hiddenLayer2Size = 100\n",
    "        self.X = inputArr\n",
    "        self.Y = outputArr\n",
    "        self.isInitialized = initialize\n",
    "        \n",
    "        if self.isInitialized == False:\n",
    "            self.W1 = np.random.randn(self.inputLayerSize, self.hiddenLayer1Size)\n",
    "            #print(\"These are the W1's\")\n",
    "            #print(self.W1)\n",
    "            self.W2 = np.random.randn(self.hiddenLayer1Size,self.hiddenLayer2Size)\n",
    "            #print(\"These are the W2's\")\n",
    "            #print(self.W2)\n",
    "            self.W3 = np.random.randn(self.hiddenLayer2Size,self.outputLayerSize)\n",
    "            #print(\"These are the W2's\")\n",
    "            #print(self.W2)\n",
    "            self.isInitialized = True\n",
    "        \n",
    "    def forward(self, X):\n",
    "        \n",
    "        #print(\"This is X\")\n",
    "        #print(X)\n",
    "        '''\n",
    "        print(\"This is self.W1\")\n",
    "        print(self.W1)\n",
    "        '''\n",
    "        self.z2 = np.dot(X, self.W1)\n",
    "        #print(\"This is z2\")\n",
    "        #print(self.z2)\n",
    "        \n",
    "        self.a2 = self.sigmoid(self.z2)\n",
    "        '''\n",
    "        print(\"This is self.a2\")\n",
    "        print(self.a2)\n",
    "        print(\"This is self.W2\")\n",
    "        print(self.W2)\n",
    "        '''\n",
    "        self.z3 = np.dot(self.a2, self.W2)\n",
    "        self.a3 = self.sigmoid(self.z3)\n",
    "        \n",
    "        \n",
    "        self.z4 = np.dot(self.a3, self.W3)\n",
    "        #print(\"This is self.z3\")\n",
    "        #print(self.z3)\n",
    "        yHat = self.sigmoid(self.z4)\n",
    "        #print(\"This is yHat\")\n",
    "        #print(yHat)\n",
    "        return yHat\n",
    "    \n",
    "    def sigmoid(self, z):\n",
    "        np.clip(-5, 5, z)\n",
    "        #print(\"This is z\")\n",
    "        #print(z)\n",
    "        return 1/(1+np.exp(-z))\n",
    "    \n",
    "    def sigmoidPrime(self, z):\n",
    "        return np.exp(-z)/((1+np.exp(-z))**2)\n",
    "    \n",
    "    def costFunction(self, X, y):\n",
    "        \n",
    "        #print(\"This is X\")\n",
    "        #print(X)\n",
    "        self.yHat = self.forward(X)\n",
    "        '''\n",
    "        print(\"This is y\")\n",
    "        print(y)\n",
    "        print(\"This is yHat\")\n",
    "        print(self.yHat)\n",
    "        '''\n",
    "        J = 0.5*sum((y-self.yHat)**2)\n",
    "        return J\n",
    "    \n",
    "    def costFunctionPrime(self, X, y):\n",
    "        self.yHat = self.forward(X)\n",
    "        \n",
    "        delta4 = np.multiply(-(y-self.yHat), self.sigmoidPrime(self.z4))\n",
    "        dJdW3 = np.dot(self.a3.T, delta4)\n",
    "\n",
    "        '''\n",
    "        print(\"This is y\")\n",
    "        print(y)\n",
    "        print(\"This is yHat\")\n",
    "        print(self.yHat)\n",
    "        print(\"This is sigmoidPrime(self.z3)\")\n",
    "        print(self.sigmoidPrime(self.z3))\n",
    "        '''\n",
    "\n",
    "        delta3 = np.dot(delta4, self.W3.T)*self.sigmoidPrime(self.z3)\n",
    "        dJdW2 = np.dot(self.a2.T, delta3)\n",
    "\n",
    "        '''\n",
    "        print(\"This is delta3\")\n",
    "        print(delta3)\n",
    "        print(\"This is W2 trans\")\n",
    "        print(self.W2.T)\n",
    "        print(\"This is sigmoidPrime(self.z2)\")\n",
    "        print(self.sigmoidPrime(self.z2))\n",
    "        '''\n",
    "\n",
    "        delta2 = np.dot(delta3, self.W2.T)*self.sigmoidPrime(self.z2)\n",
    "        dJdW1 = np.dot(np.array(X).T, delta2)  \n",
    "        \n",
    "        #self.W1 -= 0.01*dJdW1\n",
    "        #self.W2 -= 0.01*dJdW2\n",
    "        \n",
    "        return dJdW1, dJdW2, dJdW3\n"
   ]
  },
  {
   "cell_type": "code",
   "execution_count": 13,
   "metadata": {},
   "outputs": [],
   "source": [
    "class TrainObject():\n",
    "    def __init__(self, inputImg, inputLabel):\n",
    "        self.img = inputImg\n",
    "        self.label = inputLabel"
   ]
  },
  {
   "cell_type": "code",
   "execution_count": 14,
   "metadata": {},
   "outputs": [
    {
     "name": "stdout",
     "output_type": "stream",
     "text": [
      "The length of the train imgs is\n",
      "1438\n",
      "The length of the train imgs divided by the miniBatchSize is\n",
      "44.9375\n",
      "The num of mini batches is\n",
      "45\n",
      "Done\n"
     ]
    }
   ],
   "source": [
    "miniBatchSize = 32\n",
    "learningRate = 0.055 \n",
    "numberOfMiniBatches = math.ceil(len(trainImgs)/miniBatchSize)\n",
    "hasPartialLastMiniBatch = False\n",
    "sizeOfPartialLastMiniBatch = 0\n",
    "\n",
    "print(\"The length of the train imgs is\")\n",
    "print(len(trainImgs))\n",
    "print(\"The length of the train imgs divided by the miniBatchSize is\")\n",
    "print(len(trainImgs)/miniBatchSize)\n",
    "print(\"The num of mini batches is\")\n",
    "print(numberOfMiniBatches)\n",
    "\n",
    "listOfTrainObjects = []\n",
    "for i in range(len(trainImgs)):\n",
    "    aTrainObject = TrainObject(trainImgs[i], trainLabels[i])\n",
    "    listOfTrainObjects.append(aTrainObject)\n",
    "    \n",
    "numEpochs = 20\n",
    "firstEverInitialize = False\n",
    "\n",
    "for ep in range(numEpochs):\n",
    "    \n",
    "    npListOfTOs = np.array(listOfTrainObjects)\n",
    "    #print(npListOfTOs[0].img)\n",
    "    random.shuffle(npListOfTOs)\n",
    "    #print(npListOfTOs[0].img)\n",
    "\n",
    "    if len(trainImgs)/miniBatchSize - int(len(trainImgs)/miniBatchSize) != 0.0:\n",
    "        hasPartialLastMiniBatch = True\n",
    "        sizeOfPartialLastMiniBatch = len(trainImgs) % miniBatchSize\n",
    "\n",
    "    '''\n",
    "    print(\"Is there a last partial mini batch?\")\n",
    "    print(hasPartialLastMiniBatch)\n",
    "    if hasPartialLastMiniBatch:\n",
    "        print(\"The size of the last partial mini batch is\")\n",
    "        print(sizeOfPartialLastMiniBatch)\n",
    "    '''\n",
    "\n",
    "    miniBatches = []\n",
    "    idx = 0\n",
    "    for i in range(numberOfMiniBatches):\n",
    "        if i == numberOfMiniBatches-1 and hasPartialLastMiniBatch:\n",
    "            aMiniBatch = npListOfTOs[idx:idx+sizeOfPartialLastMiniBatch]\n",
    "        else:\n",
    "            aMiniBatch = npListOfTOs[idx:idx+miniBatchSize]\n",
    "        idx += miniBatchSize\n",
    "        miniBatches.append(aMiniBatch)\n",
    "\n",
    "    #print(len(miniBatches))\n",
    "    #print(len(miniBatches[0]))\n",
    "    #print(len(miniBatches[len(miniBatches)-1]))\n",
    "\n",
    "    costs = []\n",
    "\n",
    "    for i in range(len(miniBatches)):\n",
    "        aMiniBatch = miniBatches[i]\n",
    "        miniBatchImgs = []\n",
    "        miniBatchVecClassLabels = []\n",
    "        sumOfdJdW1 = 0\n",
    "        sumOfdJdW2 = 0\n",
    "        sumOfdJdW3 = 0\n",
    "        for j in range(len(aMiniBatch)):\n",
    "            miniBatchImgs.append(aMiniBatch[j].img)\n",
    "            #miniBatchVecClassLabels(aMiniBatch[j].label)\n",
    "            arr = [0]*10\n",
    "            arr[aMiniBatch[j].label] = 1\n",
    "            miniBatchVecClassLabels.append(arr)\n",
    "        if i == 0 and firstEverInitialize == False:\n",
    "            NN = NeuralNet(miniBatchImgs, miniBatchVecClassLabels)\n",
    "            firstEverInitialize = True\n",
    "        else:\n",
    "            NN.X = miniBatchImgs\n",
    "            NN.Y = miniBatchVecClassLabels\n",
    "        for i in range(len(aMiniBatch)):\n",
    "            try:\n",
    "                theSum = Decimal(sum(NN.costFunction(NN.X, NN.Y)))\n",
    "                #print(\"This one was successful\")\n",
    "                #print(theSum)\n",
    "                #numDeci = num_after_point(theSum)\n",
    "                #print(numDeci)\n",
    "                costs.append(theSum)\n",
    "                dJdW1, dJdW2, dJdW3 = NN.costFunctionPrime(NN.X, NN.Y)\n",
    "                sumOfdJdW1 += dJdW1\n",
    "                sumOfdJdW2 += dJdW2\n",
    "                sumOfdJdW3 += dJdW3\n",
    "            except:\n",
    "                pass\n",
    "        avgdJdW1 = sumOfdJdW1/len(aMiniBatch)\n",
    "        avgdJdW2 = sumOfdJdW2/len(aMiniBatch)\n",
    "        avgdJdW3 = sumOfdJdW3/len(aMiniBatch)\n",
    "        NN.W1 -= learningRate*avgdJdW1\n",
    "        NN.W2 -= learningRate*avgdJdW2\n",
    "        NN.W3 -= learningRate*avgdJdW3\n",
    "\n",
    "    #print()\n",
    "    #print(len(costs))\n",
    "    #print(costs[0])\n",
    "    #print(\"Epoch \" + str(ep+1) + \" started with a cost of \" + str(costs[0]))\n",
    "    #print(\"Epoch \" + str(ep+1) + \" ended with a cost of \" + str(costs[len(costs)-1]))\n",
    "    \n",
    "    '''\n",
    "    plt.plot(costs, label = \"The cost curve\")\n",
    "    plt.ylabel('The Cost')\n",
    "    plt.xlabel('Iteration')\n",
    "    plt.legend()\n",
    "    plt.show()\n",
    "    '''\n",
    "print(\"Done\")\n"
   ]
  },
  {
   "cell_type": "code",
   "execution_count": 15,
   "metadata": {},
   "outputs": [
    {
     "name": "stdout",
     "output_type": "stream",
     "text": [
      "Accuracy of the NN is\n",
      "0.6740947075208914\n"
     ]
    }
   ],
   "source": [
    "#test the NN\n",
    "numCorrect = 0\n",
    "for i in range(len(testImgs)):\n",
    "    aTestImg = i\n",
    "    #plt.imshow(reshapedTestImgs[aTestImg])\n",
    "    #print(testLabels[aTestImg])\n",
    "    result = NN.forward(testImgs[aTestImg])\n",
    "    #print(\"The actual is\")\n",
    "    #print(testLabels[aTestImg])\n",
    "    #print(\"The result is\")\n",
    "    #print(result)\n",
    "    highest = 0\n",
    "    highestIndex = 0\n",
    "    for i in range(len(result)):\n",
    "        if result[i] > highest:\n",
    "            highest = result[i]\n",
    "            highestIndex = i\n",
    "            #print(\"Found next highest at index \" + str(i))\n",
    "    #print(\"The label is\")\n",
    "    #print(highestIndex)\n",
    "    if testLabels[aTestImg] == highestIndex:\n",
    "        numCorrect += 1\n",
    "\n",
    "print(\"Accuracy of the NN is\")\n",
    "print(numCorrect/len(testImgs))\n",
    "\n",
    "#(60, 60, 15, 0.052, record holder = 0.889)\n",
    "#(50, 50, 15, 0.052, consistent?)"
   ]
  },
  {
   "cell_type": "code",
   "execution_count": null,
   "metadata": {},
   "outputs": [],
   "source": []
  }
 ],
 "metadata": {
  "kernelspec": {
   "display_name": "Python 3",
   "language": "python",
   "name": "python3"
  },
  "language_info": {
   "codemirror_mode": {
    "name": "ipython",
    "version": 3
   },
   "file_extension": ".py",
   "mimetype": "text/x-python",
   "name": "python",
   "nbconvert_exporter": "python",
   "pygments_lexer": "ipython3",
   "version": "3.7.3"
  }
 },
 "nbformat": 4,
 "nbformat_minor": 2
}
