{
 "cells": [
  {
   "cell_type": "code",
   "execution_count": 1,
   "metadata": {},
   "outputs": [],
   "source": [
    "from sklearn.datasets import load_digits\n",
    "from sklearn.model_selection import train_test_split\n",
    "from sklearn.utils import shuffle\n",
    "from scipy.special import expit\n",
    "from decimal import *"
   ]
  },
  {
   "cell_type": "code",
   "execution_count": 2,
   "metadata": {},
   "outputs": [],
   "source": [
    "getcontext().prec = 10\n",
    "data = load_digits()"
   ]
  },
  {
   "cell_type": "code",
   "execution_count": 3,
   "metadata": {},
   "outputs": [
    {
     "data": {
      "text/plain": [
       "{'divide': 'warn', 'over': 'raise', 'under': 'ignore', 'invalid': 'warn'}"
      ]
     },
     "execution_count": 3,
     "metadata": {},
     "output_type": "execute_result"
    }
   ],
   "source": [
    "import numpy as np\n",
    "import random\n",
    "np.seterr(over='raise')\n",
    "np.seterr(divide='raise', invalid='raise')"
   ]
  },
  {
   "cell_type": "code",
   "execution_count": 4,
   "metadata": {},
   "outputs": [
    {
     "data": {
      "text/plain": [
       "dict_keys(['data', 'target', 'target_names', 'images', 'DESCR'])"
      ]
     },
     "execution_count": 4,
     "metadata": {},
     "output_type": "execute_result"
    }
   ],
   "source": [
    "data.keys()"
   ]
  },
  {
   "cell_type": "code",
   "execution_count": 5,
   "metadata": {},
   "outputs": [],
   "source": [
    "train = np.array(list(zip(data[\"data\"],data[\"target\"])))"
   ]
  },
  {
   "cell_type": "code",
   "execution_count": 6,
   "metadata": {},
   "outputs": [],
   "source": [
    "from matplotlib import pyplot as plt\n",
    "%matplotlib inline\n"
   ]
  },
  {
   "cell_type": "code",
   "execution_count": 7,
   "metadata": {},
   "outputs": [
    {
     "name": "stdout",
     "output_type": "stream",
     "text": [
      "4\n"
     ]
    },
    {
     "data": {
      "image/png": "[encoded data removed]",
      "text/plain": [
       "<Figure size 432x288 with 1 Axes>"
      ]
     },
     "metadata": {
      "needs_background": "light"
     },
     "output_type": "display_data"
    }
   ],
   "source": [
    "rand = np.random.randint(0,high = len(train) -1)\n",
    "\n",
    "img, real = train[rand]\n",
    "func = lambda x: np.array(np.array_split(x,8))\n",
    "plt.imshow(func(img))\n",
    "print(real)"
   ]
  },
  {
   "cell_type": "code",
   "execution_count": 8,
   "metadata": {},
   "outputs": [],
   "source": [
    "import pandas as pd\n",
    "df = pd.DataFrame(train)\n",
    "df = shuffle(df)\n",
    "imgs = df[0]\n",
    "labels = df[1]\n",
    "#print(df[1])"
   ]
  },
  {
   "cell_type": "code",
   "execution_count": 9,
   "metadata": {},
   "outputs": [
    {
     "name": "stdout",
     "output_type": "stream",
     "text": [
      "[ 0.  0.  5. 13.  9.  1.  0.  0.  0.  0. 13. 15. 10. 15.  5.  0.  0.  3.\n",
      " 15.  2.  0. 11.  8.  0.  0.  4. 12.  0.  0.  8.  8.  0.  0.  5.  8.  0.\n",
      "  0.  9.  8.  0.  0.  4. 11.  0.  1. 12.  7.  0.  0.  2. 14.  5. 10. 12.\n",
      "  0.  0.  0.  0.  6. 13. 10.  0.  0.  0.]\n",
      "(64,)\n"
     ]
    }
   ],
   "source": [
    "trainImgs = []\n",
    "trainLabels = []\n",
    "testImgs = []\n",
    "testLabels = []\n",
    "\n",
    "for i in range(len(df)):\n",
    "    if i < len(df)*0.80:\n",
    "        trainImgs.append(imgs[i])\n",
    "        trainLabels.append(labels[i])\n",
    "    if i >= len(df)*0.80:\n",
    "        testImgs.append(imgs[i])\n",
    "        testLabels.append(labels[i])\n",
    "        \n",
    "#print(trainImgs[0])\n",
    "#print(np.shape(trainImgs[0]))\n",
    "       \n",
    "#print(len(imgs))\n",
    "#print(len(trainImgs))\n",
    "#print(len(testImgs))\n",
    "#print(len(trainImgs[0]))\n",
    "\n",
    "reshapedTrainImgs = []\n",
    "reshapedTestImgs = []\n",
    "\n",
    "for i in range(len(trainImgs)):\n",
    "    reshapedTrainImgs.append(func(trainImgs[i]))\n",
    "for i in range(len(testImgs)):\n",
    "    reshapedTestImgs.append(func(testImgs[i]))"
   ]
  },
  {
   "cell_type": "code",
   "execution_count": 10,
   "metadata": {},
   "outputs": [
    {
     "name": "stdout",
     "output_type": "stream",
     "text": [
      "2\n"
     ]
    },
    {
     "data": {
      "image/png": "[encoded data removed]",
      "text/plain": [
       "<Figure size 432x288 with 1 Axes>"
      ]
     },
     "metadata": {
      "needs_background": "light"
     },
     "output_type": "display_data"
    }
   ],
   "source": [
    "aTrainImg = 22\n",
    "plt.imshow(reshapedTrainImgs[aTrainImg])\n",
    "print(trainLabels[aTrainImg])"
   ]
  },
  {
   "cell_type": "code",
   "execution_count": 11,
   "metadata": {},
   "outputs": [
    {
     "name": "stdout",
     "output_type": "stream",
     "text": [
      "6\n"
     ]
    },
    {
     "data": {
      "image/png": "[encoded data removed]",
      "text/plain": [
       "<Figure size 432x288 with 1 Axes>"
      ]
     },
     "metadata": {
      "needs_background": "light"
     },
     "output_type": "display_data"
    }
   ],
   "source": [
    "aTestImg = 3\n",
    "plt.imshow(reshapedTestImgs[aTestImg])\n",
    "print(testLabels[aTestImg])\n"
   ]
  },
  {
   "cell_type": "code",
   "execution_count": 37,
   "metadata": {},
   "outputs": [],
   "source": [
    "class NeuralNet():\n",
    "    def __init__(self, inputArr, outputArr):\n",
    "        self.inputLayerSize = 64\n",
    "        self.outputLayerSize = 10\n",
    "        self.hiddenLayerSize = 5\n",
    "        self.X = inputArr\n",
    "        self.Y = outputArr\n",
    "        \n",
    "        self.W1 = np.random.randn(self.inputLayerSize, self.hiddenLayerSize)\n",
    "        #print(\"These are the W1's\")\n",
    "        #print(self.W1)\n",
    "        self.W2 = np.random.randn(self.hiddenLayerSize,self.outputLayerSize)\n",
    "        #print(\"These are the W2's\")\n",
    "        #print(self.W2)\n",
    "        \n",
    "    def forward(self, X):\n",
    "        '''\n",
    "        print(\"This is X\")\n",
    "        print(X)\n",
    "        print(\"This is self.W1\")\n",
    "        print(self.W1)\n",
    "        '''\n",
    "        self.z2 = np.dot(X, self.W1)\n",
    "        #print(\"This is z2\")\n",
    "        #print(self.z2)\n",
    "        \n",
    "        self.a2 = self.sigmoid(self.z2)\n",
    "        '''\n",
    "        print(\"This is self.a2\")\n",
    "        print(self.a2)\n",
    "        print(\"This is self.W2\")\n",
    "        print(self.W2)\n",
    "        '''\n",
    "        self.z3 = np.dot(self.a2, self.W2)\n",
    "        #print(\"This is self.z3\")\n",
    "        #print(self.z3)\n",
    "        yHat = self.sigmoid(self.z3)\n",
    "        #print(\"This is yHat\")\n",
    "        #print(yHat)\n",
    "        return yHat\n",
    "    \n",
    "    def sigmoid(self, z):\n",
    "        np.clip(-5, 5, z)\n",
    "        #print(\"This is z\")\n",
    "        #print(z)\n",
    "        return 1/(1+np.exp(-z))\n",
    "    \n",
    "    def sigmoidPrime(self, z):\n",
    "        return np.exp(-z)/((1+np.exp(-z))**2)\n",
    "    \n",
    "    def costFunction(self, X, y):\n",
    "        \n",
    "        #print(\"This is X\")\n",
    "        #print(X)\n",
    "        self.yHat = self.forward(X)\n",
    "        '''\n",
    "        print(\"This is y\")\n",
    "        print(y)\n",
    "        print(\"This is yHat\")\n",
    "        print(self.yHat)\n",
    "        '''\n",
    "        J = 0.5*sum((y-self.yHat)**2)\n",
    "        return J\n",
    "    \n",
    "    def costFunctionPrime(self, X, y):\n",
    "        self.yHat = self.forward(X)\n",
    "\n",
    "        '''\n",
    "        print(\"This is y\")\n",
    "        print(y)\n",
    "        print(\"This is yHat\")\n",
    "        print(self.yHat)\n",
    "        print(\"This is sigmoidPrime(self.z3)\")\n",
    "        print(self.sigmoidPrime(self.z3))\n",
    "        '''\n",
    "\n",
    "        delta3 = np.multiply(-(y-self.yHat), self.sigmoidPrime(self.z3))\n",
    "        dJdW2 = np.dot(self.a2.T, delta3)\n",
    "\n",
    "        '''\n",
    "        print(\"This is delta3\")\n",
    "        print(delta3)\n",
    "        print(\"This is W2 trans\")\n",
    "        print(self.W2.T)\n",
    "        print(\"This is sigmoidPrime(self.z2)\")\n",
    "        print(self.sigmoidPrime(self.z2))\n",
    "        '''\n",
    "\n",
    "        delta2 = np.dot(delta3, self.W2.T)*self.sigmoidPrime(self.z2)\n",
    "        dJdW1 = np.dot(np.array(X).T, delta2)  \n",
    "        \n",
    "        self.W1 -= 5*dJdW1\n",
    "        self.W2 -= 5*dJdW2\n",
    "        \n",
    "        return dJdW1, dJdW2\n"
   ]
  },
  {
   "cell_type": "code",
   "execution_count": null,
   "metadata": {},
   "outputs": [],
   "source": [
    "class TrainObject():\n",
    "    def __init__(self, inputImg, inputLabel):\n",
    "        self.img = inputImg\n",
    "        self.label = inputLabel"
   ]
  },
  {
   "cell_type": "code",
   "execution_count": 40,
   "metadata": {},
   "outputs": [
    {
     "ename": "IndentationError",
     "evalue": "expected an indented block (<ipython-input-40-cced64bc26ce>, line 56)",
     "output_type": "error",
     "traceback": [
      "\u001b[1;36m  File \u001b[1;32m\"<ipython-input-40-cced64bc26ce>\"\u001b[1;36m, line \u001b[1;32m56\u001b[0m\n\u001b[1;33m    plt.plot(costs, label = \"The cost curve\")\u001b[0m\n\u001b[1;37m                                             ^\u001b[0m\n\u001b[1;31mIndentationError\u001b[0m\u001b[1;31m:\u001b[0m expected an indented block\n"
     ]
    }
   ],
   "source": [
    "miniBatchSize = 32\n",
    "numberOfMiniBatches = len(trainImgs)/32\n",
    "miniBatches = []\n",
    "\n",
    "'''\n",
    "print(\"The length of the train imgs is\")\n",
    "print(len(trainImgs))\n",
    "print(\"The length of the train labels is\")\n",
    "print(len(trainLabels))\n",
    "print(\"The num of mini batches is\")\n",
    "print(numberOfMiniBatches)\n",
    "'''\n",
    "listOfTrainObjects = []\n",
    "for i in range(len(trainImgs)):\n",
    "    aTrainObject = TrainObject(trainImgs[i], trainLabels[i])\n",
    "    listOfTrainObjects.append(aTrainObject)\n",
    "    \n",
    "print(len(listOfTrainObjects))\n",
    "\n",
    "'''\n",
    "miniBatchImgs = []\n",
    "miniBatchLabels = []\n",
    "miniBatchVecClassLabels = []\n",
    "for i in range(miniBatchSize):\n",
    "    #note I'm using trainImgs instead of reshapedTrainImgs since I'm\n",
    "    #using a flattened img for processing stuff\n",
    "    miniBatchImgs.append(trainImgs[i])\n",
    "    miniBatchLabels.append(trainLabels[i])\n",
    "    arr = [0]*10\n",
    "    arr[trainLabels[i]] = 1\n",
    "    miniBatchVecClassLabels.append(arr)\n",
    "\n",
    "#plt.imshow(miniBatchImgs[0])    \n",
    "#print(miniBatchLabels[0])\n",
    "#print(len(miniBatchImgs))\n",
    "#print(miniBatchImgs)\n",
    "    \n",
    "NN = NeuralNet(miniBatchImgs, miniBatchVecClassLabels)\n",
    "costs = []\n",
    "\n",
    "for i in range(20):\n",
    "    try:\n",
    "        theSum = Decimal(sum(NN.costFunction(NN.X, NN.Y)))\n",
    "        #print(\"This one was successful\")\n",
    "        #print(theSum)\n",
    "    #numDeci = num_after_point(theSum)\n",
    "    #print(numDeci)\n",
    "        costs.append(theSum)\n",
    "        NN.costFunctionPrime(NN.X, NN.Y)\n",
    "    except:\n",
    "        #print(\"Couldn't add this one\")\n",
    "        #print(theSum)\n",
    "\n",
    "#print()\n",
    "#print(len(costs))\n",
    "#print(costs[0])\n",
    "#print(costs[len(costs)-1])\n",
    "plt.plot(costs, label = \"The cost curve\")\n",
    "plt.ylabel('The Cost')\n",
    "plt.xlabel('Iteration')\n",
    "plt.legend()\n",
    "plt.show()\n",
    "'''\n"
   ]
  },
  {
   "cell_type": "code",
   "execution_count": 14,
   "metadata": {},
   "outputs": [],
   "source": [
    "#test the NN"
   ]
  }
 ],
 "metadata": {
  "kernelspec": {
   "display_name": "Python 3",
   "language": "python",
   "name": "python3"
  },
  "language_info": {
   "codemirror_mode": {
    "name": "ipython",
    "version": 3
   },
   "file_extension": ".py",
   "mimetype": "text/x-python",
   "name": "python",
   "nbconvert_exporter": "python",
   "pygments_lexer": "ipython3",
   "version": "3.7.3"
  }
 },
 "nbformat": 4,
 "nbformat_minor": 2
}
